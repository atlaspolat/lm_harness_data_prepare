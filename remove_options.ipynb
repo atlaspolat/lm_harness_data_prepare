{
 "cells": [
  {
   "cell_type": "markdown",
   "id": "c1fc941c",
   "metadata": {},
   "source": [
    "# Remove Answer Option Prefixes and Convert Answer Letters to Numbers\n",
    "\n",
    "This notebook removes the \"A) \", \"B) \", \"C) \", \"D) \", \"E) \" prefixes from choices in the question data and converts answer letters to numbers (A->1, B->2, etc.)."
   ]
  },
  {
   "cell_type": "code",
   "execution_count": 2,
   "id": "13ab6ea1",
   "metadata": {},
   "outputs": [],
   "source": [
    "import json\n",
    "import pandas as pd\n",
    "import re\n",
    "import os"
   ]
  },
  {
   "cell_type": "code",
   "execution_count": 3,
   "id": "97a7e34c",
   "metadata": {},
   "outputs": [
    {
     "name": "stdout",
     "output_type": "stream",
     "text": [
      "Loaded 125 TYT questions and 166 AYT questions\n"
     ]
    }
   ],
   "source": [
    "# Define paths to data files\n",
    "tyt_path = 'd:/UserData/Desktop/python_projects/lm_harness_data_prepare/data/2024_YKS_TYT_questions.json'\n",
    "ayt_path = 'd:/UserData/Desktop/python_projects/lm_harness_data_prepare/data/2024_YKS_AYT_questions.json'\n",
    "\n",
    "# Function to load JSON data\n",
    "def load_json_data(file_path):\n",
    "    try:\n",
    "        with open(file_path, 'r', encoding='utf-8') as f:\n",
    "            # The files aren't standard JSON arrays - each line is a separate JSON object\n",
    "            data = []\n",
    "            for line in f:\n",
    "                line = line.strip()\n",
    "                if line and not line.startswith('//'):\n",
    "                    try:\n",
    "                        data.append(json.loads(line))\n",
    "                    except json.JSONDecodeError:\n",
    "                        # Some lines might be partial or malformed\n",
    "                        pass\n",
    "            return data\n",
    "    except Exception as e:\n",
    "        print(f\"Error loading {file_path}: {e}\")\n",
    "        return []\n",
    "\n",
    "# Load data\n",
    "tyt_data = load_json_data(tyt_path)\n",
    "ayt_data = load_json_data(ayt_path)\n",
    "\n",
    "print(f\"Loaded {len(tyt_data)} TYT questions and {len(ayt_data)} AYT questions\")"
   ]
  },
  {
   "cell_type": "code",
   "execution_count": 4,
   "id": "258d4240",
   "metadata": {},
   "outputs": [
    {
     "name": "stdout",
     "output_type": "stream",
     "text": [
      "TYT Sample:\n"
     ]
    },
    {
     "data": {
      "application/vnd.microsoft.datawrangler.viewer.v0+json": {
       "columns": [
        {
         "name": "index",
         "rawType": "int64",
         "type": "integer"
        },
        {
         "name": "0",
         "rawType": "object",
         "type": "string"
        }
       ],
       "conversionMethod": "pd.DataFrame",
       "ref": "196846ad-c695-44ca-ab10-3b70afaf9087",
       "rows": [
        [
         "0",
         "E) V"
        ],
        [
         "1",
         "E) geleneği aktarmasını - mantıksal bir akışın"
        ]
       ],
       "shape": {
        "columns": 1,
        "rows": 2
       }
      },
      "text/html": [
       "<div>\n",
       "<style scoped>\n",
       "    .dataframe tbody tr th:only-of-type {\n",
       "        vertical-align: middle;\n",
       "    }\n",
       "\n",
       "    .dataframe tbody tr th {\n",
       "        vertical-align: top;\n",
       "    }\n",
       "\n",
       "    .dataframe thead th {\n",
       "        text-align: right;\n",
       "    }\n",
       "</style>\n",
       "<table border=\"1\" class=\"dataframe\">\n",
       "  <thead>\n",
       "    <tr style=\"text-align: right;\">\n",
       "      <th></th>\n",
       "      <th>0</th>\n",
       "    </tr>\n",
       "  </thead>\n",
       "  <tbody>\n",
       "    <tr>\n",
       "      <th>0</th>\n",
       "      <td>E) V</td>\n",
       "    </tr>\n",
       "    <tr>\n",
       "      <th>1</th>\n",
       "      <td>E) geleneği aktarmasını - mantıksal bir akışın</td>\n",
       "    </tr>\n",
       "  </tbody>\n",
       "</table>\n",
       "</div>"
      ],
      "text/plain": [
       "                                                0\n",
       "0                                            E) V\n",
       "1  E) geleneği aktarmasını - mantıksal bir akışın"
      ]
     },
     "metadata": {},
     "output_type": "display_data"
    },
    {
     "name": "stdout",
     "output_type": "stream",
     "text": [
      "\n",
      "AYT Sample:\n"
     ]
    },
    {
     "data": {
      "application/vnd.microsoft.datawrangler.viewer.v0+json": {
       "columns": [
        {
         "name": "index",
         "rawType": "int64",
         "type": "integer"
        },
        {
         "name": "0",
         "rawType": "object",
         "type": "string"
        }
       ],
       "conversionMethod": "pd.DataFrame",
       "ref": "9eb3b319-89e3-4e0c-88ab-2325cab1d70c",
       "rows": [
        [
         "0",
         "E) karmaşıklığını - niteliğini"
        ],
        [
         "1",
         "E) V. cümlede, bir bilim insanının yaptığı icadın tasarlanma amacına değinilmiştir."
        ]
       ],
       "shape": {
        "columns": 1,
        "rows": 2
       }
      },
      "text/html": [
       "<div>\n",
       "<style scoped>\n",
       "    .dataframe tbody tr th:only-of-type {\n",
       "        vertical-align: middle;\n",
       "    }\n",
       "\n",
       "    .dataframe tbody tr th {\n",
       "        vertical-align: top;\n",
       "    }\n",
       "\n",
       "    .dataframe thead th {\n",
       "        text-align: right;\n",
       "    }\n",
       "</style>\n",
       "<table border=\"1\" class=\"dataframe\">\n",
       "  <thead>\n",
       "    <tr style=\"text-align: right;\">\n",
       "      <th></th>\n",
       "      <th>0</th>\n",
       "    </tr>\n",
       "  </thead>\n",
       "  <tbody>\n",
       "    <tr>\n",
       "      <th>0</th>\n",
       "      <td>E) karmaşıklığını - niteliğini</td>\n",
       "    </tr>\n",
       "    <tr>\n",
       "      <th>1</th>\n",
       "      <td>E) V. cümlede, bir bilim insanının yaptığı ica...</td>\n",
       "    </tr>\n",
       "  </tbody>\n",
       "</table>\n",
       "</div>"
      ],
      "text/plain": [
       "                                                   0\n",
       "0                     E) karmaşıklığını - niteliğini\n",
       "1  E) V. cümlede, bir bilim insanının yaptığı ica..."
      ]
     },
     "metadata": {},
     "output_type": "display_data"
    }
   ],
   "source": [
    "# Convert to pandas DataFrames\n",
    "tyt_df = pd.DataFrame(tyt_data)\n",
    "ayt_df = pd.DataFrame(ayt_data)\n",
    "\n",
    "# Display sample data\n",
    "print(\"TYT Sample:\")\n",
    "if not tyt_df.empty:\n",
    "    display(tyt_df.head(2))\n",
    "else:\n",
    "    print(\"TYT DataFrame is empty\")\n",
    "\n",
    "print(\"\\nAYT Sample:\")\n",
    "if not ayt_df.empty:\n",
    "    display(ayt_df.head(2))\n",
    "else:\n",
    "    print(\"AYT DataFrame is empty\")"
   ]
  },
  {
   "cell_type": "code",
   "execution_count": null,
   "id": "108066c5",
   "metadata": {},
   "outputs": [],
   "source": [
    "# Function to remove option prefixes (A), B), etc.) from choices\n",
    "def clean_choices(choices):\n",
    "    if not isinstance(choices, list):\n",
    "        return []\n",
    "    \n",
    "    # Using a regex pattern to match options like \"A) \", \"B) \", etc.\n",
    "    pattern = re.compile(r'^[A-E])\\s')\n",
    "    \n",
    "    cleaned_choices = []\n",
    "    for choice in choices:\n",
    "        if isinstance(choice, str):\n",
    "            # Remove the option prefix\n",
    "            cleaned = pattern.sub('', choice)\n",
    "            cleaned_choices.append(cleaned)\n",
    "        else:\n",
    "            cleaned_choices.append(choice)\n",
    "    \n",
    "    return cleaned_choices\n",
    "\n",
    "# Function to convert answer letter to number (A->1, B->2, etc.)\n",
    "def convert_answer_to_number(answer):\n",
    "    if isinstance(answer, str) and len(answer) == 1 and 'A' <= answer <= 'E':\n",
    "        # Convert A->1, B->2, etc.\n",
    "        return ord(answer) - ord('A') + 1\n",
    "    return answer\n",
    "\n",
    "# Process each DataFrame\n",
    "def process_dataframe(df):\n",
    "    if df.empty:\n",
    "        return df\n",
    "    \n",
    "    # Create a copy to avoid modifying the original\n",
    "    processed_df = df.copy()\n",
    "    \n",
    "    # Clean choices\n",
    "    if 'choices' in processed_df.columns:\n",
    "        processed_df['choices'] = processed_df['choices'].apply(clean_choices)\n",
    "    \n",
    "    # Convert answer letters to numbers\n",
    "    if 'answer' in processed_df.columns:\n",
    "        processed_df['answer'] = processed_df['answer'].apply(convert_answer_to_number)\n",
    "    \n",
    "    # Remove answer_key field if it exists\n",
    "    if 'answer_key' in processed_df.columns:\n",
    "        processed_df = processed_df.drop('answer_key', axis=1)\n",
    "    \n",
    "    return processed_df\n",
    "\n",
    "# Process the DataFrames\n",
    "tyt_processed = process_dataframe(tyt_df)\n",
    "ayt_processed = process_dataframe(ayt_df)\n",
    "\n",
    "# Display processed data\n",
    "print(\"Processed TYT Sample:\")\n",
    "if not tyt_processed.empty:\n",
    "    display(tyt_processed.head(2))\n",
    "else:\n",
    "    print(\"Processed TYT DataFrame is empty\")\n",
    "\n",
    "print(\"\\nProcessed AYT Sample:\")\n",
    "if not ayt_processed.empty:\n",
    "    display(ayt_processed.head(2))\n",
    "else:\n",
    "    print(\"Processed AYT DataFrame is empty\")"
   ]
  },
  {
   "cell_type": "code",
   "execution_count": null,
   "id": "4a0b8237",
   "metadata": {},
   "outputs": [],
   "source": [
    "# Function to save processed data back to JSON files\n",
    "def save_processed_data(df, output_path):\n",
    "    if df.empty:\n",
    "        print(f\"No data to save to {output_path}\")\n",
    "        return\n",
    "    \n",
    "    # Create output directory if it doesn't exist\n",
    "    output_dir = os.path.dirname(output_path)\n",
    "    if not os.path.exists(output_dir):\n",
    "        os.makedirs(output_dir)\n",
    "    \n",
    "    # Convert DataFrame to list of dictionaries\n",
    "    records = df.to_dict('records')\n",
    "    \n",
    "    # Save to JSON file\n",
    "    with open(output_path, 'w', encoding='utf-8') as f:\n",
    "        json.dump(records, f, ensure_ascii=False, indent=4)\n",
    "    \n",
    "    print(f\"Saved processed data to {output_path}\")\n",
    "\n",
    "# Define output paths\n",
    "tyt_output_path = 'd:/UserData/Desktop/python_projects/lm_harness_data_prepare/data/processed_TYT_questions.json'\n",
    "ayt_output_path = 'd:/UserData/Desktop/python_projects/lm_harness_data_prepare/data/processed_AYT_questions.json'\n",
    "\n",
    "# Save processed data\n",
    "save_processed_data(tyt_processed, tyt_output_path)\n",
    "save_processed_data(ayt_processed, ayt_output_path)"
   ]
  },
  {
   "cell_type": "code",
   "execution_count": null,
   "id": "779542ca",
   "metadata": {},
   "outputs": [],
   "source": [
    "# Verify the saved data\n",
    "def load_and_verify(file_path):\n",
    "    try:\n",
    "        with open(file_path, 'r', encoding='utf-8') as f:\n",
    "            data = json.load(f)\n",
    "            print(f\"Successfully loaded {file_path}\")\n",
    "            print(f\"Number of questions: {len(data)}\")\n",
    "            \n",
    "            # Verify first record\n",
    "            if data:\n",
    "                print(\"Sample question:\")\n",
    "                sample = data[0]\n",
    "                print(f\"Question: {sample.get('question', 'N/A')}\")\n",
    "                print(f\"Answer: {sample.get('answer', 'N/A')}\")\n",
    "                print(f\"Choices: {sample.get('choices', 'N/A')}\")\n",
    "                return data\n",
    "            else:\n",
    "                print(\"No data found in the file\")\n",
    "                return []\n",
    "    except Exception as e:\n",
    "        print(f\"Error loading {file_path}: {e}\")\n",
    "        return []\n",
    "\n",
    "print(\"Verifying TYT processed data:\")\n",
    "tyt_verified = load_and_verify(tyt_output_path)\n",
    "\n",
    "print(\"\\nVerifying AYT processed data:\")\n",
    "ayt_verified = load_and_verify(ayt_output_path)"
   ]
  },
  {
   "cell_type": "markdown",
   "id": "4419b9b2",
   "metadata": {},
   "source": [
    "## Conclusion\n",
    "\n",
    "The notebook has successfully:\n",
    "1. Loaded question data from TYT and AYT JSON files\n",
    "2. Removed option prefixes (A), B), etc.) from choices\n",
    "3. Converted answer letters to numbers (A->1, B->2, etc.)\n",
    "4. Removed the answer_key field\n",
    "5. Saved the processed data to new JSON files\n",
    "\n",
    "The processed data is now ready for further use in language model training or evaluation."
   ]
  }
 ],
 "metadata": {
  "kernelspec": {
   "display_name": "ML_env",
   "language": "python",
   "name": "python3"
  },
  "language_info": {
   "codemirror_mode": {
    "name": "ipython",
    "version": 3
   },
   "file_extension": ".py",
   "mimetype": "text/x-python",
   "name": "python",
   "nbconvert_exporter": "python",
   "pygments_lexer": "ipython3",
   "version": "3.12.7"
  }
 },
 "nbformat": 4,
 "nbformat_minor": 5
}
